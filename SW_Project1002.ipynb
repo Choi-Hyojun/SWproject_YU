{
  "nbformat": 4,
  "nbformat_minor": 0,
  "metadata": {
    "colab": {
      "provenance": [],
      "collapsed_sections": []
    },
    "kernelspec": {
      "name": "python3",
      "display_name": "Python 3"
    },
    "language_info": {
      "name": "python"
    }
  },
  "cells": [
    {
      "cell_type": "code",
      "execution_count": 100,
      "metadata": {
        "id": "PqdS8sqydjDZ"
      },
      "outputs": [],
      "source": [
        "import random\n",
        "import collections"
      ]
    },
    {
      "cell_type": "code",
      "source": [
        "tile_set = []\n",
        "board = []\n",
        "players = []\n",
        "\n",
        "\n",
        "# 각 타일의 색깔은 앞글자는 소문자 혹은 대문자인 3글자 영어이며 숫자는 그대로 그 타일의 숫자입니다.\n",
        "# 조커는 z와 Z로 나타냅니다.\n",
        "\n",
        "for i in range(1,14):#타일뭉치를 만듭니다.\n",
        "    tile_set.append(\"red\"+str(i))\n",
        "    tile_set.append(\"Red\"+str(i))\n",
        "    tile_set.append(\"yel\"+str(i))\n",
        "    tile_set.append(\"Yel\"+str(i))\n",
        "    tile_set.append(\"blu\"+str(i))\n",
        "    tile_set.append(\"Blu\"+str(i))\n",
        "    tile_set.append(\"bla\"+str(i))\n",
        "    tile_set.append(\"Bla\"+str(i))\n",
        "     \n",
        "tile_set.append('z')\n",
        "tile_set.append('Z')"
      ],
      "metadata": {
        "id": "qtpO3kgvmAC_"
      },
      "execution_count": 101,
      "outputs": []
    },
    {
      "cell_type": "code",
      "source": [
        "print(tile_set)\n",
        "print(len(tile_set))\n",
        "\n",
        "random.shuffle(tile_set)#타일 뭉치를 섞습니다.\n",
        "print(tile_set)"
      ],
      "metadata": {
        "colab": {
          "base_uri": "https://localhost:8080/"
        },
        "id": "GkfMzgKGBUf0",
        "outputId": "684383dc-b63a-41d9-d820-86bbd39b4b0b"
      },
      "execution_count": 102,
      "outputs": [
        {
          "output_type": "stream",
          "name": "stdout",
          "text": [
            "['red1', 'Red1', 'yel1', 'Yel1', 'blu1', 'Blu1', 'bla1', 'Bla1', 'red2', 'Red2', 'yel2', 'Yel2', 'blu2', 'Blu2', 'bla2', 'Bla2', 'red3', 'Red3', 'yel3', 'Yel3', 'blu3', 'Blu3', 'bla3', 'Bla3', 'red4', 'Red4', 'yel4', 'Yel4', 'blu4', 'Blu4', 'bla4', 'Bla4', 'red5', 'Red5', 'yel5', 'Yel5', 'blu5', 'Blu5', 'bla5', 'Bla5', 'red6', 'Red6', 'yel6', 'Yel6', 'blu6', 'Blu6', 'bla6', 'Bla6', 'red7', 'Red7', 'yel7', 'Yel7', 'blu7', 'Blu7', 'bla7', 'Bla7', 'red8', 'Red8', 'yel8', 'Yel8', 'blu8', 'Blu8', 'bla8', 'Bla8', 'red9', 'Red9', 'yel9', 'Yel9', 'blu9', 'Blu9', 'bla9', 'Bla9', 'red10', 'Red10', 'yel10', 'Yel10', 'blu10', 'Blu10', 'bla10', 'Bla10', 'red11', 'Red11', 'yel11', 'Yel11', 'blu11', 'Blu11', 'bla11', 'Bla11', 'red12', 'Red12', 'yel12', 'Yel12', 'blu12', 'Blu12', 'bla12', 'Bla12', 'red13', 'Red13', 'yel13', 'Yel13', 'blu13', 'Blu13', 'bla13', 'Bla13', 'z0', 'z1']\n",
            "106\n",
            "['Bla3', 'blu4', 'bla12', 'Bla5', 'Bla6', 'Blu5', 'yel10', 'Yel3', 'yel3', 'Red12', 'Red6', 'Blu1', 'red5', 'Yel7', 'yel13', 'red2', 'red10', 'blu1', 'Blu9', 'red13', 'yel1', 'bla6', 'Red5', 'yel2', 'bla1', 'Yel2', 'bla10', 'Red4', 'z0', 'yel11', 'bla7', 'red6', 'yel7', 'yel8', 'Blu8', 'Red11', 'blu8', 'Red8', 'Blu11', 'yel9', 'blu6', 'yel4', 'yel5', 'Red9', 'blu11', 'Yel13', 'yel12', 'Yel6', 'blu7', 'Red7', 'bla8', 'Blu6', 'Red13', 'blu2', 'Yel12', 'blu9', 'Red10', 'Bla8', 'red9', 'red8', 'Yel10', 'Bla9', 'Bla2', 'z1', 'Bla4', 'blu12', 'Red1', 'Blu3', 'Red3', 'red1', 'bla9', 'red7', 'bla5', 'Blu10', 'blu3', 'blu10', 'Yel5', 'Yel1', 'blu13', 'yel6', 'bla11', 'Yel9', 'bla13', 'Blu12', 'Bla11', 'Bla7', 'Blu4', 'bla2', 'red3', 'Blu7', 'bla4', 'Red2', 'Blu2', 'red12', 'Bla12', 'Yel11', 'red4', 'blu5', 'Yel4', 'bla3', 'Yel8', 'Blu13', 'Bla10', 'Bla1', 'red11', 'Bla13']\n"
          ]
        }
      ]
    },
    {
      "cell_type": "code",
      "source": [
        "player_num=int(input(\"플레이어의 수 : \"))#플레이어의 숫자를 받습니다."
      ],
      "metadata": {
        "colab": {
          "base_uri": "https://localhost:8080/"
        },
        "id": "GJvwZ4YgBWCn",
        "outputId": "a548a549-9ca2-4618-baa0-d80a073cb70a"
      },
      "execution_count": 103,
      "outputs": [
        {
          "name": "stdout",
          "output_type": "stream",
          "text": [
            "플레이어의 수 : 3\n"
          ]
        }
      ]
    },
    {
      "cell_type": "code",
      "source": [
        "for i in range(player_num):#플레이어들에게 타일 14개씩 나누어줍니다.\n",
        "    hand=[]\n",
        "    for j in range(14):\n",
        "        hand.append(tile_set.pop())\n",
        "    players.append([0,hand])"
      ],
      "metadata": {
        "id": "9kMpO0-9EJlv"
      },
      "execution_count": 104,
      "outputs": []
    },
    {
      "cell_type": "code",
      "source": [
        "print(players)"
      ],
      "metadata": {
        "colab": {
          "base_uri": "https://localhost:8080/"
        },
        "id": "HUKINE03FV1y",
        "outputId": "5ad9ac82-967c-42ba-e6fc-75064eb4bca1"
      },
      "execution_count": 105,
      "outputs": [
        {
          "output_type": "stream",
          "name": "stdout",
          "text": [
            "[[0, ['Bla13', 'red11', 'Bla1', 'Bla10', 'Blu13', 'Yel8', 'bla3', 'Yel4', 'blu5', 'red4', 'Yel11', 'Bla12', 'red12', 'Blu2']], [0, ['Red2', 'bla4', 'Blu7', 'red3', 'bla2', 'Blu4', 'Bla7', 'Bla11', 'Blu12', 'bla13', 'Yel9', 'bla11', 'yel6', 'blu13']], [0, ['Yel1', 'Yel5', 'blu10', 'blu3', 'Blu10', 'bla5', 'red7', 'bla9', 'red1', 'Red3', 'Blu3', 'Red1', 'blu12', 'Bla4']]]\n"
          ]
        }
      ]
    },
    {
      "cell_type": "code",
      "source": [
        "example_tiles1 = tile_set[:4]#함수들을 테스트하기 위한 작은 타일 집합들입니다.\n",
        "example_tiles2 = tile_set[5:8]\n",
        "example_tiles3 = ['blu4', 'Blu7', 'Blu5', 'blu6']\n",
        "example_tiles4 = ['Blu11', 'red11', 'Yel11', 'bla11']\n",
        "\n",
        "print(example_tiles1)\n",
        "print(example_tiles2)"
      ],
      "metadata": {
        "colab": {
          "base_uri": "https://localhost:8080/"
        },
        "id": "VyoADcENVP0l",
        "outputId": "125b1522-5308-4617-fde9-739f0298a39c"
      },
      "execution_count": 138,
      "outputs": [
        {
          "output_type": "stream",
          "name": "stdout",
          "text": [
            "['Bla3', 'blu4', 'bla12', 'Bla5']\n",
            "['Blu5', 'yel10', 'Yel3']\n"
          ]
        }
      ]
    },
    {
      "cell_type": "code",
      "source": [
        "def tile_color(tile):#각 타일의  숫자나 색깔을 표현하는 함수들입니다.\n",
        "    return tile[:3].lower()\n",
        "\n",
        "def tile_number(tile):\n",
        "    return int(tile[3:])\n",
        "\n",
        "print(tile_set[0])\n",
        "print(tile_color(tile_set[0]))\n",
        "print(tile_number(tile_set[0]))"
      ],
      "metadata": {
        "colab": {
          "base_uri": "https://localhost:8080/"
        },
        "id": "Vf-PRMVqFcg2",
        "outputId": "5e4f648e-375d-4a82-f1c8-3d51c9588cf2"
      },
      "execution_count": 139,
      "outputs": [
        {
          "output_type": "stream",
          "name": "stdout",
          "text": [
            "Bla3\n",
            "bla\n",
            "3\n"
          ]
        }
      ]
    },
    {
      "cell_type": "code",
      "source": [
        "def tiles_color(tiles):#타일 집합의 숫자나 색깔 리스트를 반환하는 함수입니다. \n",
        "    colors=[]\n",
        "    for i in range(len(tiles)):\n",
        "        colors.append(tile_color(tiles[i]))\n",
        "    return colors\n",
        "\n",
        "def tiles_number(tiles):\n",
        "    numbers=[]\n",
        "    \n",
        "    for i in range(len(tiles)):\n",
        "        numbers.append(tile_number(tiles[i]))\n",
        "    return numbers"
      ],
      "metadata": {
        "id": "wVbfXlSANNc7"
      },
      "execution_count": 140,
      "outputs": []
    },
    {
      "cell_type": "code",
      "source": [
        "def same_color(tiles):#타일들의 색깔이 모두 같은지 반환하는 함수입니다.\n",
        "    colors=tiles_color(tiles)\n",
        "    \n",
        "    samecolor = True\n",
        "    for i in range(len(tiles)-1):\n",
        "        if(colors[i]!=colors[i+1]):\n",
        "            samecolor = False\n",
        "\n",
        "    return samecolor\n",
        "\n",
        "def same_number(tiles):#타일들의 숫자가 모두 같은지 반환하는 함수입니다.\n",
        "    numbers = tiles_number(tiles)\n",
        "    \n",
        "    samenumber = True\n",
        "    for i in range(len(tiles)-1):\n",
        "        if numbers[i] != numbers[i+1]:\n",
        "            samenumber = False\n",
        "\n",
        "    return samenumber\n",
        "\n",
        "def different_color(tiles):#타일들의 색깔이 모두 다른지 반환하는 함수입니다.\n",
        "    colors = tiles_color(tiles)\n",
        "    color_num = collections.Counter(colors)\n",
        "    differentcolor = True\n",
        "    if color_num['red']>1 or color_num['yel']>1 or color_num['blu']>1 or color_num['bla']>1:\n",
        "        differentcolor= False\n",
        "    return differentcolor\n",
        "\n",
        "def number_in_a_row(tiles):#타일들의 숫자가 연속하는지 반환하는 함수입니다.\n",
        "    numbers = tiles_number(tiles)\n",
        "    numbers.sort()\n",
        "    \n",
        "    numberinarow = True\n",
        "    for i in range(len(tiles)-1):\n",
        "        if numbers[i]+1 != numbers[i+1]:\n",
        "            numberinarow = False\n",
        "    return numberinarow\n",
        "\n",
        "def available_tiles(tiles):#타일들이 루미큐브 규칙상 가능한 패인지 반환합니다.\n",
        "    if(same_number(tiles)):\n",
        "        return different_color(tiles)\n",
        "    \n",
        "    elif(same_color(tiles)):\n",
        "        return number_in_a_row(tiles)\n",
        "    else:\n",
        "        return False\n",
        "\n",
        "def able_to_register(tiles):#처음 등록할 때 등록이 가능한지 아닌지 반환합니다.\n",
        "    if sum(tiles_number(tiles))<30:\n",
        "        return False\n",
        "    \n",
        "    return available_tiles(tiles)\n",
        "\n",
        "def registration(player):\n",
        "    if player[0] != 0:\n",
        "        print('Already registered player.')\n",
        "        return\n",
        "    \n"
      ],
      "metadata": {
        "id": "bm4TUGI4Gcol"
      },
      "execution_count": 156,
      "outputs": []
    },
    {
      "cell_type": "code",
      "source": [
        "available_tiles(example_tiles2)"
      ],
      "metadata": {
        "colab": {
          "base_uri": "https://localhost:8080/"
        },
        "id": "BRrtgyPKXlUL",
        "outputId": "21f38feb-5cc0-45ec-c8fe-48e63b1a0ae6"
      },
      "execution_count": 161,
      "outputs": [
        {
          "output_type": "execute_result",
          "data": {
            "text/plain": [
              "False"
            ]
          },
          "metadata": {},
          "execution_count": 161
        }
      ]
    },
    {
      "cell_type": "code",
      "source": [
        "while True:\n",
        "    \n",
        "\n",
        "\n",
        "\n",
        "\n",
        "\n",
        "\n",
        "\n",
        "\n",
        "\n",
        "\n",
        "\n",
        "\n",
        "\n",
        "\n",
        "\n",
        "\n"
      ],
      "metadata": {
        "id": "vfygymPQRuYl"
      },
      "execution_count": null,
      "outputs": []
    }
  ]
}