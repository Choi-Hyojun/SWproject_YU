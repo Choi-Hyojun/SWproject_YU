{
  "nbformat": 4,
  "nbformat_minor": 0,
  "metadata": {
    "colab": {
      "provenance": [],
      "collapsed_sections": []
    },
    "kernelspec": {
      "name": "python3",
      "display_name": "Python 3"
    },
    "language_info": {
      "name": "python"
    }
  },
  "cells": [
    {
      "cell_type": "code",
      "execution_count": 1,
      "metadata": {
        "id": "PqdS8sqydjDZ"
      },
      "outputs": [],
      "source": [
        "import random\n",
        "import collections"
      ]
    },
    {
      "cell_type": "code",
      "source": [
        "tile_set = []\n",
        "board = []\n",
        "players = []\n",
        "\n",
        "\n",
        "# 각 타일의 색깔은 앞글자는 소문자 혹은 대문자인 3글자 영어이며 숫자는 그대로 그 타일의 숫자입니다.\n",
        "# 조커는 z와 Z로 나타냅니다.\n",
        "\n",
        "for i in range(1,14):#타일뭉치를 만듭니다.\n",
        "    tile_set.append(\"red\"+str(i))\n",
        "    tile_set.append(\"Red\"+str(i))\n",
        "    tile_set.append(\"yel\"+str(i))\n",
        "    tile_set.append(\"Yel\"+str(i))\n",
        "    tile_set.append(\"blu\"+str(i))\n",
        "    tile_set.append(\"Blu\"+str(i))\n",
        "    tile_set.append(\"bla\"+str(i))\n",
        "    tile_set.append(\"Bla\"+str(i))\n",
        "     \n",
        "tile_set.append('z')\n",
        "tile_set.append('Z')"
      ],
      "metadata": {
        "id": "qtpO3kgvmAC_"
      },
      "execution_count": 2,
      "outputs": []
    },
    {
      "cell_type": "code",
      "source": [
        "print(tile_set)\n",
        "print(len(tile_set))\n",
        "\n",
        "random.shuffle(tile_set)#타일 뭉치를 섞습니다.\n",
        "print(tile_set)"
      ],
      "metadata": {
        "colab": {
          "base_uri": "https://localhost:8080/"
        },
        "id": "GkfMzgKGBUf0",
        "outputId": "06aa599b-4b5d-4577-e9d9-32ca2b8211a9"
      },
      "execution_count": 3,
      "outputs": [
        {
          "output_type": "stream",
          "name": "stdout",
          "text": [
            "['red1', 'Red1', 'yel1', 'Yel1', 'blu1', 'Blu1', 'bla1', 'Bla1', 'red2', 'Red2', 'yel2', 'Yel2', 'blu2', 'Blu2', 'bla2', 'Bla2', 'red3', 'Red3', 'yel3', 'Yel3', 'blu3', 'Blu3', 'bla3', 'Bla3', 'red4', 'Red4', 'yel4', 'Yel4', 'blu4', 'Blu4', 'bla4', 'Bla4', 'red5', 'Red5', 'yel5', 'Yel5', 'blu5', 'Blu5', 'bla5', 'Bla5', 'red6', 'Red6', 'yel6', 'Yel6', 'blu6', 'Blu6', 'bla6', 'Bla6', 'red7', 'Red7', 'yel7', 'Yel7', 'blu7', 'Blu7', 'bla7', 'Bla7', 'red8', 'Red8', 'yel8', 'Yel8', 'blu8', 'Blu8', 'bla8', 'Bla8', 'red9', 'Red9', 'yel9', 'Yel9', 'blu9', 'Blu9', 'bla9', 'Bla9', 'red10', 'Red10', 'yel10', 'Yel10', 'blu10', 'Blu10', 'bla10', 'Bla10', 'red11', 'Red11', 'yel11', 'Yel11', 'blu11', 'Blu11', 'bla11', 'Bla11', 'red12', 'Red12', 'yel12', 'Yel12', 'blu12', 'Blu12', 'bla12', 'Bla12', 'red13', 'Red13', 'yel13', 'Yel13', 'blu13', 'Blu13', 'bla13', 'Bla13', 'z', 'Z']\n",
            "106\n",
            "['Bla13', 'Blu5', 'blu10', 'red1', 'Blu9', 'bla10', 'Yel12', 'Red3', 'Blu7', 'Yel6', 'blu12', 'Blu13', 'Bla12', 'Red11', 'bla6', 'Bla1', 'blu7', 'Red2', 'yel2', 'Red7', 'Red10', 'yel3', 'Red12', 'yel10', 'Yel3', 'Red13', 'Blu10', 'bla12', 'Yel5', 'blu4', 'red4', 'red5', 'Blu2', 'red12', 'blu11', 'yel9', 'Yel8', 'Bla8', 'bla2', 'bla5', 'Bla3', 'Bla6', 'yel11', 'Bla4', 'Yel10', 'Bla11', 'Blu4', 'Yel9', 'yel4', 'z', 'yel13', 'Yel1', 'bla9', 'blu5', 'Yel2', 'blu2', 'Bla7', 'blu6', 'bla1', 'Red4', 'Yel7', 'Blu6', 'blu9', 'bla4', 'Blu12', 'yel7', 'red10', 'yel1', 'Z', 'Yel13', 'bla8', 'yel6', 'Bla9', 'blu8', 'yel5', 'Blu1', 'Bla10', 'red2', 'Yel11', 'Blu8', 'Blu11', 'Red1', 'Red6', 'blu13', 'Yel4', 'Bla5', 'bla11', 'red3', 'red7', 'bla3', 'red13', 'yel8', 'blu1', 'blu3', 'yel12', 'bla7', 'Red9', 'red9', 'bla13', 'red8', 'Bla2', 'Red8', 'red6', 'red11', 'Blu3', 'Red5']\n"
          ]
        }
      ]
    },
    {
      "cell_type": "code",
      "source": [
        "player_num=int(input(\"플레이어의 수 : \"))#플레이어의 숫자를 받습니다."
      ],
      "metadata": {
        "colab": {
          "base_uri": "https://localhost:8080/"
        },
        "id": "GJvwZ4YgBWCn",
        "outputId": "f4ac26f4-7e2d-434d-d3b4-b95caa853837"
      },
      "execution_count": 4,
      "outputs": [
        {
          "name": "stdout",
          "output_type": "stream",
          "text": [
            "플레이어의 수 : 3\n"
          ]
        }
      ]
    },
    {
      "cell_type": "code",
      "source": [
        "for i in range(player_num):#플레이어들에게 타일 14개씩 나누어줍니다.\n",
        "    hand=[]\n",
        "    for j in range(14):\n",
        "        hand.append(tile_set.pop())\n",
        "    players.append([0,hand])"
      ],
      "metadata": {
        "id": "9kMpO0-9EJlv"
      },
      "execution_count": 5,
      "outputs": []
    },
    {
      "cell_type": "code",
      "source": [
        "print(players)"
      ],
      "metadata": {
        "colab": {
          "base_uri": "https://localhost:8080/"
        },
        "id": "HUKINE03FV1y",
        "outputId": "ebdf61a9-e685-4d2e-8d32-aeeee1f3be9d"
      },
      "execution_count": 6,
      "outputs": [
        {
          "output_type": "stream",
          "name": "stdout",
          "text": [
            "[[0, ['Red5', 'Blu3', 'red11', 'red6', 'Red8', 'Bla2', 'red8', 'bla13', 'red9', 'Red9', 'bla7', 'yel12', 'blu3', 'blu1']], [0, ['yel8', 'red13', 'bla3', 'red7', 'red3', 'bla11', 'Bla5', 'Yel4', 'blu13', 'Red6', 'Red1', 'Blu11', 'Blu8', 'Yel11']], [0, ['red2', 'Bla10', 'Blu1', 'yel5', 'blu8', 'Bla9', 'yel6', 'bla8', 'Yel13', 'Z', 'yel1', 'red10', 'yel7', 'Blu12']]]\n"
          ]
        }
      ]
    },
    {
      "cell_type": "code",
      "source": [
        "example_tiles1 = tile_set[:4]#함수들을 테스트하기 위한 작은 타일 집합들입니다.\n",
        "example_tiles2 = tile_set[5:8]\n",
        "example_tiles3 = ['blu4', 'Blu7', 'Blu5', 'blu6']\n",
        "example_tiles4 = ['Blu11', 'red11', 'Yel11', 'bla11']\n",
        "\n",
        "print(example_tiles1)\n",
        "print(example_tiles2)"
      ],
      "metadata": {
        "colab": {
          "base_uri": "https://localhost:8080/"
        },
        "id": "VyoADcENVP0l",
        "outputId": "be9d851d-3944-48c5-8f2a-5569a8f58598"
      },
      "execution_count": 7,
      "outputs": [
        {
          "output_type": "stream",
          "name": "stdout",
          "text": [
            "['Bla13', 'Blu5', 'blu10', 'red1']\n",
            "['bla10', 'Yel12', 'Red3']\n"
          ]
        }
      ]
    },
    {
      "cell_type": "code",
      "source": [
        "def tile_color(tile):#각 타일의  숫자나 색깔을 표현하는 함수들입니다.\n",
        "    return tile[:3].lower()\n",
        "\n",
        "def tile_number(tile):\n",
        "    return int(tile[3:])\n",
        "\n",
        "print(tile_set[0])\n",
        "print(tile_color(tile_set[0]))\n",
        "print(tile_number(tile_set[0]))"
      ],
      "metadata": {
        "colab": {
          "base_uri": "https://localhost:8080/"
        },
        "id": "Vf-PRMVqFcg2",
        "outputId": "c9865e65-35e1-4587-ea73-379e9fac1627"
      },
      "execution_count": 8,
      "outputs": [
        {
          "output_type": "stream",
          "name": "stdout",
          "text": [
            "Bla13\n",
            "bla\n",
            "13\n"
          ]
        }
      ]
    },
    {
      "cell_type": "code",
      "source": [
        "def tiles_color(tiles):#타일 집합의 숫자나 색깔 리스트를 반환하는 함수입니다. \n",
        "    colors=[]\n",
        "    for i in range(len(tiles)):\n",
        "        colors.append(tile_color(tiles[i]))\n",
        "    return colors\n",
        "\n",
        "def tiles_number(tiles):\n",
        "    numbers=[]\n",
        "    \n",
        "    for i in range(len(tiles)):\n",
        "        numbers.append(tile_number(tiles[i]))\n",
        "    return numbers"
      ],
      "metadata": {
        "id": "wVbfXlSANNc7"
      },
      "execution_count": 9,
      "outputs": []
    },
    {
      "cell_type": "code",
      "source": [
        "def same_color(tiles):#타일들의 색깔이 모두 같은지 반환하는 함수입니다.\n",
        "    colors=tiles_color(tiles)\n",
        "    \n",
        "    samecolor = True\n",
        "    for i in range(len(tiles)-1):\n",
        "        if(colors[i]!=colors[i+1]):\n",
        "            samecolor = False\n",
        "\n",
        "    return samecolor\n",
        "\n",
        "def same_number(tiles):#타일들의 숫자가 모두 같은지 반환하는 함수입니다.\n",
        "    numbers = tiles_number(tiles)\n",
        "    \n",
        "    samenumber = True\n",
        "    for i in range(len(tiles)-1):\n",
        "        if numbers[i] != numbers[i+1]:\n",
        "            samenumber = False\n",
        "\n",
        "    return samenumber\n",
        "\n",
        "def different_color(tiles):#타일들의 색깔이 모두 다른지 반환하는 함수입니다.\n",
        "    colors = tiles_color(tiles)\n",
        "    color_num = collections.Counter(colors)\n",
        "    differentcolor = True\n",
        "    if color_num['red']>1 or color_num['yel']>1 or color_num['blu']>1 or color_num['bla']>1:\n",
        "        differentcolor= False\n",
        "    return differentcolor\n",
        "\n",
        "def number_in_a_row(tiles):#타일들의 숫자가 연속하는지 반환하는 함수입니다.\n",
        "    numbers = tiles_number(tiles)\n",
        "    numbers.sort()\n",
        "    \n",
        "    numberinarow = True\n",
        "    for i in range(len(tiles)-1):\n",
        "        if numbers[i]+1 != numbers[i+1]:\n",
        "            numberinarow = False\n",
        "    return numberinarow\n",
        "\n",
        "def available_tiles(tiles):#타일들이 루미큐브 규칙상 가능한 패인지 반환합니다.\n",
        "    if(same_number(tiles)):\n",
        "        return different_color(tiles)\n",
        "    \n",
        "    elif(same_color(tiles)):\n",
        "        return number_in_a_row(tiles)\n",
        "    else:\n",
        "        return False\n",
        "\n",
        "def able_to_register(tiles):#처음 등록할 때 등록이 가능한지 아닌지 반환합니다.\n",
        "    if sum(tiles_number(tiles))<30:\n",
        "        return False\n",
        "    \n",
        "    return available_tiles(tiles)\n",
        "\n",
        "def registration(player):\n",
        "    if player[0] != 0:\n",
        "        print('Already registered player.')\n",
        "        \n",
        "    else:\n",
        "        while True:\n",
        "            tiles = input(\"제출할 타일들 : (i.e. red10 Red11 Red12)\")\n",
        "            tiles = tiles.split()\n",
        "            if able_to_register(tiles):\n",
        "                return tiles\n",
        "            else:\n",
        "                print(\"등록할 수 없습니다. 다시 입력해주세요\")\n",
        "        \n",
        "\n",
        "    \n"
      ],
      "metadata": {
        "id": "bm4TUGI4Gcol"
      },
      "execution_count": 14,
      "outputs": []
    },
    {
      "cell_type": "code",
      "source": [
        "print(available_tiles(example_tiles2))"
      ],
      "metadata": {
        "colab": {
          "base_uri": "https://localhost:8080/"
        },
        "id": "BRrtgyPKXlUL",
        "outputId": "9e361298-1ceb-4be4-a03a-fbad2063aed1"
      },
      "execution_count": 15,
      "outputs": [
        {
          "output_type": "stream",
          "name": "stdout",
          "text": [
            "False\n"
          ]
        }
      ]
    },
    {
      "cell_type": "code",
      "source": [
        "def receive_tile(order):\n",
        "    players[order][1].append(tile_set.pop()) \n",
        "\n",
        "def print_player(order):\n",
        "    print(players[order][1])\n",
        "\n",
        "def print_board():\n",
        "    for tiles in board:\n",
        "        print(tiles)\n",
        "\n",
        "def set_tile():\n",
        "    \n",
        "    pass"
      ],
      "metadata": {
        "id": "XvuZh2HuLT60"
      },
      "execution_count": null,
      "outputs": []
    },
    {
      "cell_type": "code",
      "source": [
        "def game(tile_set,board, players, player_num):\n",
        "    while True:\n",
        "        order = 0\n",
        "        print_player(order)\n",
        "        print(\"board:\")\n",
        "        print_board()\n",
        "        if players[order][0] != 0:#등록절차\n",
        "            regist = input(\"등록하시겠습니까 ? (Y or N)\")\n",
        "            while True:\n",
        "                if regist == \"N\":\n",
        "                    receive_tile(order)\n",
        "                    break\n",
        "                elif regist == \"Y\":\n",
        "                    board.append(registration(players[order]))\n",
        "                    players[order][0]=1\n",
        "                    break\n",
        "                else:\n",
        "                    pass\n",
        "        else:\n",
        "            submit = input(\"타일을 제출하시겠습니까? (Y or N)\")\n",
        "            while True:\n",
        "                if submit == \"N\":\n",
        "                    receive_tile(order)\n",
        "                    break\n",
        "                elif regist == \"Y\":\n",
        "                    submit_tiles = input(\"제출할 타일들을 입력해주세요.\")\n",
        "                    submit_tiles = submit_tiles.split()\n",
        "\n",
        "                else:\n",
        "                    pass\n",
        " \n",
        "\n",
        "        \n",
        "     \n",
        "                \n",
        "    \n",
        "\n",
        "\n",
        "\n",
        "\n",
        "\n",
        "\n",
        "\n",
        "\n",
        "\n",
        "\n",
        "\n",
        "\n",
        "\n",
        "\n",
        "\n",
        "\n"
      ],
      "metadata": {
        "id": "vfygymPQRuYl"
      },
      "execution_count": null,
      "outputs": []
    }
  ]
}