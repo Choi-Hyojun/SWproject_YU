{
  "nbformat": 4,
  "nbformat_minor": 0,
  "metadata": {
    "colab": {
      "provenance": [],
      "collapsed_sections": [],
      "authorship_tag": "ABX9TyNv2q2VG1ccrNhLnOn4vQ9H",
      "include_colab_link": true
    },
    "kernelspec": {
      "name": "python3",
      "display_name": "Python 3"
    },
    "language_info": {
      "name": "python"
    }
  },
  "cells": [
    {
      "cell_type": "markdown",
      "metadata": {
        "id": "view-in-github",
        "colab_type": "text"
      },
      "source": [
        "<a href=\"https://colab.research.google.com/github/Choi-Hyojun/SWproject_YU/blob/main/SW_Project.ipynb\" target=\"_parent\"><img src=\"https://colab.research.google.com/assets/colab-badge.svg\" alt=\"Open In Colab\"/></a>"
      ]
    },
    {
      "cell_type": "code",
      "execution_count": 132,
      "metadata": {
        "id": "PqdS8sqydjDZ"
      },
      "outputs": [],
      "source": [
        "import random\n",
        "import collections"
      ]
    },
    {
      "cell_type": "code",
      "source": [
        "def Initialization():\n",
        "    tile_set = []\n",
        "    board = []\n",
        "    players = []\n",
        "\n",
        "\n",
        "    # 각 타일의 색깔은 앞글자는 소문자 혹은 대문자인 3글자 영어이며 숫자는 그대로 그 타일의 숫자입니다.\n",
        "    # 조커는 z로 나타냅니다.\n",
        "\n",
        "    for i in range(1,14):#타일뭉치를 만듭니다.\n",
        "        tile_set.append(\"red_\"+str(i).zfill(2))\n",
        "        tile_set.append(\"red_\"+str(i).zfill(2))\n",
        "        tile_set.append(\"yellow_\"+str(i).zfill(2))\n",
        "        tile_set.append(\"yellow_\"+str(i).zfill(2))\n",
        "        tile_set.append(\"blue_\"+str(i).zfill(2))\n",
        "        tile_set.append(\"blue_\"+str(i).zfill(2))\n",
        "        tile_set.append(\"black_\"+str(i).zfill(2))\n",
        "        tile_set.append(\"black_\"+str(i).zfill(2))\n",
        "     \n",
        "    tile_set.append('z')\n",
        "    tile_set.append('z')\n",
        "    random.shuffle(tile_set)\n",
        "\n",
        "    player_num=int(input(\"플레이어의 수 : \"))#플레이어의 숫자를 받습니다.\n",
        "    for i in range(player_num):#플레이어들에게 타일 14개씩 나누어줍니다.\n",
        "        hand=[]\n",
        "        for j in range(14):\n",
        "            hand.append(tile_set.pop())\n",
        "        hand.sort()\n",
        "        players.append([0,hand])\n",
        "    \n",
        "    return tile_set, board, players"
      ],
      "metadata": {
        "id": "w9CEfZvoq-u1"
      },
      "execution_count": 133,
      "outputs": []
    },
    {
      "cell_type": "code",
      "source": [
        "\"\"\"\n",
        "tile_set, board, players, _ = Initialization()\n",
        "example_tiles1 = tile_set[:4]#함수들을 테스트하기 위한 작은 타일 집합들입니다.\n",
        "example_tiles2 = tile_set[5:8]\n",
        "example_tiles3 = ['blu4', 'blu7', 'blu5', 'blu6']\n",
        "example_tiles4 = ['blu11', 'red11', 'yel11', 'bla11']\n",
        "\n",
        "print(players)\n",
        "\"\"\""
      ],
      "metadata": {
        "colab": {
          "base_uri": "https://localhost:8080/",
          "height": 54
        },
        "id": "VyoADcENVP0l",
        "outputId": "86f7a6bd-c133-4866-bf21-eed811441abc"
      },
      "execution_count": 134,
      "outputs": [
        {
          "output_type": "execute_result",
          "data": {
            "text/plain": [
              "\"\\ntile_set, board, players, _ = Initialization()\\nexample_tiles1 = tile_set[:4]#함수들을 테스트하기 위한 작은 타일 집합들입니다.\\nexample_tiles2 = tile_set[5:8]\\nexample_tiles3 = ['blu4', 'blu7', 'blu5', 'blu6']\\nexample_tiles4 = ['blu11', 'red11', 'yel11', 'bla11']\\n\\nprint(players)\\n\""
            ],
            "application/vnd.google.colaboratory.intrinsic+json": {
              "type": "string"
            }
          },
          "metadata": {},
          "execution_count": 134
        }
      ]
    },
    {
      "cell_type": "code",
      "source": [
        "def tile_color(tile):#각 타일의  숫자나 색깔을 표현하는 함수들입니다.\n",
        "    return tile[:3]\n",
        "\n",
        "def tile_number(tile):\n",
        "    return int(tile[-2:])"
      ],
      "metadata": {
        "id": "Vf-PRMVqFcg2"
      },
      "execution_count": 135,
      "outputs": []
    },
    {
      "cell_type": "code",
      "source": [],
      "metadata": {
        "id": "TtA8JiII1kpq"
      },
      "execution_count": 135,
      "outputs": []
    },
    {
      "cell_type": "code",
      "source": [
        "def tiles_color(tiles):#타일 집합의 숫자나 색깔 리스트를 반환하는 함수입니다. \n",
        "    colors=[]\n",
        "    for i in range(len(tiles)):\n",
        "        colors.append(tile_color(tiles[i]))\n",
        "    return colors\n",
        "\n",
        "def tiles_number(tiles):\n",
        "    numbers=[]\n",
        "    \n",
        "    for i in range(len(tiles)):\n",
        "        numbers.append(tile_number(tiles[i]))\n",
        "    return numbers"
      ],
      "metadata": {
        "id": "wVbfXlSANNc7"
      },
      "execution_count": 136,
      "outputs": []
    },
    {
      "cell_type": "code",
      "source": [
        "def same_color(tiles):#타일들의 색깔이 모두 같은지 반환하는 함수입니다.\n",
        "    colors=tiles_color(tiles)\n",
        "    \n",
        "    samecolor = True\n",
        "    for i in range(len(tiles)-1):\n",
        "        if(colors[i]!=colors[i+1]):\n",
        "            samecolor = False\n",
        "\n",
        "    return samecolor\n",
        "\n",
        "def same_number(tiles):#타일들의 숫자가 모두 같은지 반환하는 함수입니다.\n",
        "    numbers = tiles_number(tiles)\n",
        "    \n",
        "    samenumber = True\n",
        "    for i in range(len(tiles)-1):\n",
        "        if numbers[i] != numbers[i+1]:\n",
        "            samenumber = False\n",
        "\n",
        "    return samenumber\n",
        "\n",
        "def different_color(tiles):#타일들의 색깔이 모두 다른지 반환하는 함수입니다.\n",
        "    colors = tiles_color(tiles)\n",
        "    color_num = collections.Counter(colors)\n",
        "    differentcolor = True\n",
        "    if color_num['red']>1 or color_num['yel']>1 or color_num['blu']>1 or color_num['bla']>1:\n",
        "        differentcolor= False\n",
        "    return differentcolor\n",
        "\n",
        "def number_in_a_row(tiles):#타일들의 숫자가 연속하는지 반환하는 함수입니다.\n",
        "    numbers = tiles_number(tiles)\n",
        "    numbers.sort()\n",
        "    \n",
        "    numberinarow = True\n",
        "    for i in range(len(tiles)-1):\n",
        "        if numbers[i]+1 != numbers[i+1]:\n",
        "            numberinarow = False\n",
        "    return numberinarow\n",
        "\n",
        "def available_tiles(tiles):#타일들이 루미큐브 규칙상 가능한 패인지 반환합니다.\n",
        "    if(same_number(tiles)):\n",
        "        return different_color(tiles)\n",
        "    \n",
        "    elif(same_color(tiles)):\n",
        "        return number_in_a_row(tiles)\n",
        "    else:\n",
        "        return False\n",
        "\n",
        "def able_to_register(tiles):#처음 등록할 때 등록이 가능한지 아닌지 반환합니다.\n",
        "    if sum(tiles_number(tiles))<30:\n",
        "        return False\n",
        "    \n",
        "    return available_tiles(tiles)\n",
        "\n",
        "def registration(player, board):\n",
        "    if player[0] != 0:\n",
        "        print('Already registered player.')\n",
        "        return\n",
        "        \n",
        "    else:\n",
        "        while True:\n",
        "            tiles = input(\"제출할 타일들 : (i.e. red_10 blue_03)\")\n",
        "            tiles = tiles.split()\n",
        "            for tile in tiles:\n",
        "                if tile not in player[1]:\n",
        "                    print(\"잘못된 타일을 입력했습니다.\")\n",
        "                else:\n",
        "                    player[1].remove(tile)\n",
        "            if able_to_register(tiles):\n",
        "                board.append(list(tiles))\n",
        "                break\n",
        "            else:\n",
        "                print(\"등록할 수 없습니다. 다시 입력해주세요\")\n",
        "        player[0]=1\n",
        "        \n",
        "\n",
        "    \n"
      ],
      "metadata": {
        "id": "bm4TUGI4Gcol"
      },
      "execution_count": 148,
      "outputs": []
    },
    {
      "cell_type": "code",
      "source": [
        "def receive_tile(order):\n",
        "    players[order][1].append(tile_set.pop()) \n",
        "    players[order][1].sort()\n",
        "\n",
        "def print_player(order):\n",
        "    print(players[order][1])\n",
        "\n",
        "def print_board():\n",
        "    for tiles in board:\n",
        "        print(tiles)\n",
        "\n",
        "def submit_tiles(board, tiles):\n",
        "    \n",
        "    pass"
      ],
      "metadata": {
        "id": "XvuZh2HuLT60"
      },
      "execution_count": 149,
      "outputs": []
    },
    {
      "cell_type": "code",
      "source": [
        "def game(tile_set,board, players):\n",
        "    \n",
        "    order = 0\n",
        "    while True:\n",
        "        print(\"Player \"+str(order+1)+\" tiles:\")\n",
        "        print_player(order)\n",
        "        print(\"board:\")\n",
        "        print_board()\n",
        "        if players[order][0] == 0:#등록절차\n",
        "            regist = \"\"\n",
        "            while True:\n",
        "                regist = input(\"등록하시겠습니까 ? (Y or N)\")\n",
        "                if regist == \"N\":\n",
        "                    receive_tile(order)\n",
        "                    break\n",
        "                elif regist == \"Y\":\n",
        "                    registration(players[order], board)\n",
        "                    players[order][0]=1\n",
        "                    break\n",
        "                elif regist == \"terminate\":\n",
        "                    return\n",
        "                else:\n",
        "                    print(\"잘 못 입력하셨습니다\")\n",
        "                    \n",
        "        else:\n",
        "            submit=\"\"\n",
        "            while True:\n",
        "                submit = input(\"타일을 제출하시겠습니까? (Y or N)\")\n",
        "                if submit == \"N\":\n",
        "                    receive_tile(order)\n",
        "                    break\n",
        "                elif submit == \"Y\":\n",
        "                    tiles = input(\"제출할 타일들을 입력해주세요.\")\n",
        "                    tiles = tiles.split()\n",
        "                    submit_tiles(board, tiles)\n",
        "                elif submit == \"terminate\":\n",
        "                    return\n",
        "                else:\n",
        "                    print(\"잘 못 입력하셨습니다\")\n",
        "        if len(players[order][1]) == 0:\n",
        "            print(\"Player \"+str(order+1)+\" Win!\")\n",
        "            break\n",
        "        order=(order+1)%len(players)\n",
        "  \n"
      ],
      "metadata": {
        "id": "vfygymPQRuYl"
      },
      "execution_count": 154,
      "outputs": []
    },
    {
      "cell_type": "code",
      "source": [
        "tile_set,board, players = Initialization()\n",
        "game(tile_set,board, players)"
      ],
      "metadata": {
        "colab": {
          "base_uri": "https://localhost:8080/"
        },
        "id": "d08lCauum19c",
        "outputId": "da0b9454-adc3-428e-9755-34722ec2f232"
      },
      "execution_count": 155,
      "outputs": [
        {
          "name": "stdout",
          "output_type": "stream",
          "text": [
            "플레이어의 수 : 1\n",
            "Player 1 tiles:\n",
            "['black_01', 'black_02', 'black_04', 'black_08', 'blue_06', 'blue_08', 'blue_12', 'red_06', 'yellow_02', 'yellow_05', 'yellow_05', 'yellow_11', 'yellow_11', 'yellow_13']\n",
            "board:\n",
            "등록하시겠습니까 ? (Y or N)N\n",
            "Player 1 tiles:\n",
            "['black_01', 'black_02', 'black_04', 'black_08', 'blue_06', 'blue_08', 'blue_12', 'red_06', 'red_08', 'yellow_02', 'yellow_05', 'yellow_05', 'yellow_11', 'yellow_11', 'yellow_13']\n",
            "board:\n",
            "등록하시겠습니까 ? (Y or N)terminate\n"
          ]
        }
      ]
    },
    {
      "cell_type": "code",
      "source": [],
      "metadata": {
        "id": "4VO86IbanuI2"
      },
      "execution_count": 140,
      "outputs": []
    }
  ]
}